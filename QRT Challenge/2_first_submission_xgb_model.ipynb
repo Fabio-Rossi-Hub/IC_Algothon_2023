{
 "cells": [
  {
   "cell_type": "markdown",
   "metadata": {
    "collapsed": false
   },
   "source": [
    "## Correlation through Discretised output"
   ]
  },
  {
   "cell_type": "code",
   "execution_count": 2,
   "metadata": {
    "collapsed": true
   },
   "outputs": [],
   "source": [
    "import numpy as np\n",
    "import pandas as pd"
   ]
  },
  {
   "cell_type": "markdown",
   "metadata": {
    "collapsed": false
   },
   "source": [
    "### Data import and cleaning"
   ]
  },
  {
   "cell_type": "code",
   "execution_count": 6,
   "metadata": {
    "collapsed": false
   },
   "outputs": [],
   "source": [
    "x_train = pd.read_csv('data/x_train.csv')\n",
    "y_train = pd.read_csv('data/y_train.csv')\n",
    "x_test = pd.read_csv('data/x_test.csv')\n",
    "x_train['target'] = y_train['TARGET']"
   ]
  },
  {
   "cell_type": "code",
   "execution_count": 7,
   "metadata": {
    "collapsed": false
   },
   "outputs": [],
   "source": [
    "def clean_df(df, country):\n",
    "    df = df.set_index(keys='ID')\n",
    "\n",
    "    values = df[df['COUNTRY'] == country.upper()]\n",
    "    res = pd.DataFrame()\n",
    "    for c in values.columns:\n",
    "        if c[:3] == f'{country.upper()}_':\n",
    "            res[c[3:]] = values[c]\n",
    "\n",
    "    for data_c in ['GAS_RET', 'COAL_RET', 'CARBON_RET']:\n",
    "        res[data_c] = values[data_c]\n",
    "\n",
    "    if 'target' in df.columns:\n",
    "        res['target'] = df['target']\n",
    "\n",
    "    if country == 'de':\n",
    "        res['LIGNITE'] = values['DE_LIGNITE']\n",
    "\n",
    "    return res\n",
    "\n",
    "de_df = clean_df(x_train, 'de')"
   ]
  },
  {
   "cell_type": "markdown",
   "metadata": {
    "collapsed": false
   },
   "source": [
    "### Transformation to classification via discretising the target"
   ]
  },
  {
   "cell_type": "code",
   "execution_count": 8,
   "metadata": {
    "collapsed": false
   },
   "outputs": [],
   "source": [
    "n_quantiles = 12\n",
    "step = 1 / n_quantiles\n",
    "\n",
    "intervals_raw = [np.quantile(de_df['target'], i) for i in np.arange(step, 1.0, step)]\n",
    "intervals_ = [float('-inf')] + intervals_raw + [float('inf')]"
   ]
  },
  {
   "cell_type": "code",
   "execution_count": 9,
   "metadata": {
    "collapsed": false
   },
   "outputs": [],
   "source": [
    "intervals = dict()\n",
    "\n",
    "for b_val, t_val in zip(intervals_, intervals_[1:]):\n",
    "    indices = np.where(np.logical_and(de_df['target'] > b_val, de_df['target'] <= t_val))\n",
    "    interval_mean = round(de_df['target'].iloc[indices].mean(), 3)\n",
    "    intervals[interval_mean] = b_val, t_val"
   ]
  },
  {
   "cell_type": "code",
   "execution_count": 10,
   "metadata": {
    "collapsed": false
   },
   "outputs": [],
   "source": [
    "def discretize_df(df):\n",
    "    for index, value in df['target'].items():\n",
    "        for disc, (b_range, t_range) in intervals.items():\n",
    "            if b_range < value <= t_range:\n",
    "                df.loc[index, 'disc_target'] = disc\n",
    "                break"
   ]
  },
  {
   "cell_type": "code",
   "execution_count": 11,
   "metadata": {
    "collapsed": false
   },
   "outputs": [
    {
     "data": {
      "text/html": [
       "<div>\n",
       "<style scoped>\n",
       "    .dataframe tbody tr th:only-of-type {\n",
       "        vertical-align: middle;\n",
       "    }\n",
       "\n",
       "    .dataframe tbody tr th {\n",
       "        vertical-align: top;\n",
       "    }\n",
       "\n",
       "    .dataframe thead th {\n",
       "        text-align: right;\n",
       "    }\n",
       "</style>\n",
       "<table border=\"1\" class=\"dataframe\">\n",
       "  <thead>\n",
       "    <tr style=\"text-align: right;\">\n",
       "      <th></th>\n",
       "      <th>CONSUMPTION</th>\n",
       "      <th>FR_EXCHANGE</th>\n",
       "      <th>NET_EXPORT</th>\n",
       "      <th>NET_IMPORT</th>\n",
       "      <th>GAS</th>\n",
       "      <th>COAL</th>\n",
       "      <th>HYDRO</th>\n",
       "      <th>NUCLEAR</th>\n",
       "      <th>SOLAR</th>\n",
       "      <th>WINDPOW</th>\n",
       "      <th>LIGNITE</th>\n",
       "      <th>RESIDUAL_LOAD</th>\n",
       "      <th>RAIN</th>\n",
       "      <th>WIND</th>\n",
       "      <th>TEMP</th>\n",
       "      <th>GAS_RET</th>\n",
       "      <th>COAL_RET</th>\n",
       "      <th>CARBON_RET</th>\n",
       "      <th>target</th>\n",
       "      <th>disc_target</th>\n",
       "    </tr>\n",
       "    <tr>\n",
       "      <th>ID</th>\n",
       "      <th></th>\n",
       "      <th></th>\n",
       "      <th></th>\n",
       "      <th></th>\n",
       "      <th></th>\n",
       "      <th></th>\n",
       "      <th></th>\n",
       "      <th></th>\n",
       "      <th></th>\n",
       "      <th></th>\n",
       "      <th></th>\n",
       "      <th></th>\n",
       "      <th></th>\n",
       "      <th></th>\n",
       "      <th></th>\n",
       "      <th></th>\n",
       "      <th></th>\n",
       "      <th></th>\n",
       "      <th></th>\n",
       "      <th></th>\n",
       "    </tr>\n",
       "  </thead>\n",
       "  <tbody>\n",
       "    <tr>\n",
       "      <th>297</th>\n",
       "      <td>-0.983324</td>\n",
       "      <td>-0.839586</td>\n",
       "      <td>-0.270870</td>\n",
       "      <td>0.270870</td>\n",
       "      <td>0.487818</td>\n",
       "      <td>-1.473817</td>\n",
       "      <td>-0.368417</td>\n",
       "      <td>-0.205547</td>\n",
       "      <td>1.751523</td>\n",
       "      <td>-0.010090</td>\n",
       "      <td>-2.330557</td>\n",
       "      <td>-1.191889</td>\n",
       "      <td>-1.114838</td>\n",
       "      <td>-0.499409</td>\n",
       "      <td>0.350938</td>\n",
       "      <td>0.911652</td>\n",
       "      <td>-0.296168</td>\n",
       "      <td>1.073948</td>\n",
       "      <td>-0.260356</td>\n",
       "      <td>-0.240</td>\n",
       "    </tr>\n",
       "    <tr>\n",
       "      <th>819</th>\n",
       "      <td>-0.055692</td>\n",
       "      <td>0.237105</td>\n",
       "      <td>-0.851082</td>\n",
       "      <td>0.851082</td>\n",
       "      <td>0.882313</td>\n",
       "      <td>-0.042992</td>\n",
       "      <td>1.282374</td>\n",
       "      <td>-2.509255</td>\n",
       "      <td>1.172155</td>\n",
       "      <td>-0.103994</td>\n",
       "      <td>-0.354480</td>\n",
       "      <td>-0.178397</td>\n",
       "      <td>1.608304</td>\n",
       "      <td>1.143607</td>\n",
       "      <td>1.595158</td>\n",
       "      <td>-0.359866</td>\n",
       "      <td>-0.203952</td>\n",
       "      <td>-0.376234</td>\n",
       "      <td>-0.133381</td>\n",
       "      <td>-0.130</td>\n",
       "    </tr>\n",
       "    <tr>\n",
       "      <th>918</th>\n",
       "      <td>0.532116</td>\n",
       "      <td>0.339942</td>\n",
       "      <td>-0.173123</td>\n",
       "      <td>0.173123</td>\n",
       "      <td>-0.188430</td>\n",
       "      <td>-0.354327</td>\n",
       "      <td>-0.168264</td>\n",
       "      <td>-1.879712</td>\n",
       "      <td>-0.324789</td>\n",
       "      <td>1.448078</td>\n",
       "      <td>-0.237658</td>\n",
       "      <td>-0.795593</td>\n",
       "      <td>-0.194927</td>\n",
       "      <td>1.383171</td>\n",
       "      <td>1.241892</td>\n",
       "      <td>1.170760</td>\n",
       "      <td>0.133643</td>\n",
       "      <td>0.033874</td>\n",
       "      <td>0.196312</td>\n",
       "      <td>0.176</td>\n",
       "    </tr>\n",
       "    <tr>\n",
       "      <th>283</th>\n",
       "      <td>-0.328286</td>\n",
       "      <td>-1.380464</td>\n",
       "      <td>-1.046122</td>\n",
       "      <td>1.046122</td>\n",
       "      <td>0.544008</td>\n",
       "      <td>-1.183566</td>\n",
       "      <td>0.523610</td>\n",
       "      <td>-0.646234</td>\n",
       "      <td>0.509242</td>\n",
       "      <td>0.359210</td>\n",
       "      <td>-2.244028</td>\n",
       "      <td>-0.676137</td>\n",
       "      <td>0.974454</td>\n",
       "      <td>-0.138918</td>\n",
       "      <td>-0.634046</td>\n",
       "      <td>0.122818</td>\n",
       "      <td>0.220077</td>\n",
       "      <td>5.453331</td>\n",
       "      <td>-0.025477</td>\n",
       "      <td>-0.035</td>\n",
       "    </tr>\n",
       "    <tr>\n",
       "      <th>158</th>\n",
       "      <td>1.028987</td>\n",
       "      <td>1.129663</td>\n",
       "      <td>-0.391261</td>\n",
       "      <td>0.391261</td>\n",
       "      <td>2.170761</td>\n",
       "      <td>1.831623</td>\n",
       "      <td>1.223032</td>\n",
       "      <td>0.125765</td>\n",
       "      <td>-1.234093</td>\n",
       "      <td>-1.210165</td>\n",
       "      <td>0.892261</td>\n",
       "      <td>2.156285</td>\n",
       "      <td>0.194458</td>\n",
       "      <td>-1.106067</td>\n",
       "      <td>-0.667496</td>\n",
       "      <td>0.689483</td>\n",
       "      <td>1.095473</td>\n",
       "      <td>0.342798</td>\n",
       "      <td>0.460278</td>\n",
       "      <td>0.517</td>\n",
       "    </tr>\n",
       "  </tbody>\n",
       "</table>\n",
       "</div>"
      ],
      "text/plain": [
       "     CONSUMPTION  FR_EXCHANGE  NET_EXPORT  NET_IMPORT       GAS      COAL  \\\n",
       "ID                                                                          \n",
       "297    -0.983324    -0.839586   -0.270870    0.270870  0.487818 -1.473817   \n",
       "819    -0.055692     0.237105   -0.851082    0.851082  0.882313 -0.042992   \n",
       "918     0.532116     0.339942   -0.173123    0.173123 -0.188430 -0.354327   \n",
       "283    -0.328286    -1.380464   -1.046122    1.046122  0.544008 -1.183566   \n",
       "158     1.028987     1.129663   -0.391261    0.391261  2.170761  1.831623   \n",
       "\n",
       "        HYDRO   NUCLEAR     SOLAR   WINDPOW   LIGNITE  RESIDUAL_LOAD  \\\n",
       "ID                                                                     \n",
       "297 -0.368417 -0.205547  1.751523 -0.010090 -2.330557      -1.191889   \n",
       "819  1.282374 -2.509255  1.172155 -0.103994 -0.354480      -0.178397   \n",
       "918 -0.168264 -1.879712 -0.324789  1.448078 -0.237658      -0.795593   \n",
       "283  0.523610 -0.646234  0.509242  0.359210 -2.244028      -0.676137   \n",
       "158  1.223032  0.125765 -1.234093 -1.210165  0.892261       2.156285   \n",
       "\n",
       "         RAIN      WIND      TEMP   GAS_RET  COAL_RET  CARBON_RET    target  \\\n",
       "ID                                                                            \n",
       "297 -1.114838 -0.499409  0.350938  0.911652 -0.296168    1.073948 -0.260356   \n",
       "819  1.608304  1.143607  1.595158 -0.359866 -0.203952   -0.376234 -0.133381   \n",
       "918 -0.194927  1.383171  1.241892  1.170760  0.133643    0.033874  0.196312   \n",
       "283  0.974454 -0.138918 -0.634046  0.122818  0.220077    5.453331 -0.025477   \n",
       "158  0.194458 -1.106067 -0.667496  0.689483  1.095473    0.342798  0.460278   \n",
       "\n",
       "     disc_target  \n",
       "ID                \n",
       "297       -0.240  \n",
       "819       -0.130  \n",
       "918        0.176  \n",
       "283       -0.035  \n",
       "158        0.517  "
      ]
     },
     "execution_count": 11,
     "metadata": {},
     "output_type": "execute_result"
    }
   ],
   "source": [
    "discretize_df(de_df)\n",
    "de_df.head()"
   ]
  },
  {
   "cell_type": "markdown",
   "metadata": {
    "collapsed": false
   },
   "source": [
    "### Define independent/dependent variables"
   ]
  },
  {
   "cell_type": "code",
   "execution_count": 12,
   "metadata": {
    "collapsed": false
   },
   "outputs": [],
   "source": [
    "inputs = ['CONSUMPTION', 'FR_EXCHANGE', 'NET_EXPORT', 'GAS', 'COAL', 'HYDRO', 'NUCLEAR', 'SOLAR', 'WINDPOW', 'RESIDUAL_LOAD', 'RAIN', 'WIND', 'TEMP', 'GAS_RET', 'COAL_RET', 'CARBON_RET']\n",
    "output = 'disc_target'"
   ]
  },
  {
   "cell_type": "markdown",
   "metadata": {
    "collapsed": false
   },
   "source": [
    "### Stratify into train/test sets"
   ]
  },
  {
   "cell_type": "code",
   "execution_count": 13,
   "metadata": {
    "collapsed": false
   },
   "outputs": [],
   "source": [
    "import xgboost as xgb\n",
    "from sklearn.model_selection import train_test_split\n",
    "\n",
    "de_train, de_test = train_test_split(de_df, test_size=0.2, stratify=de_df[output])\n",
    "\n",
    "train_d = xgb.DMatrix(de_train[inputs], de_train[output])\n",
    "test_d = xgb.DMatrix(de_test[inputs], de_test[output])"
   ]
  },
  {
   "cell_type": "markdown",
   "metadata": {
    "collapsed": false
   },
   "source": [
    "### Hyperparameter tuning/model training"
   ]
  },
  {
   "cell_type": "code",
   "execution_count": 14,
   "metadata": {
    "collapsed": false
   },
   "outputs": [],
   "source": [
    "de_model = xgb.train(\n",
    "    params=dict(\n",
    "        eta=0.3,\n",
    "        gamma=0.5,\n",
    "        subsample=1.0,\n",
    "        tree_method='exact',\n",
    "        reg_alpha=0.1,\n",
    "        max_depth=5\n",
    "    ),\n",
    "    dtrain=train_d,\n",
    "    num_boost_round=25\n",
    ")"
   ]
  },
  {
   "cell_type": "code",
   "execution_count": 19,
   "metadata": {},
   "outputs": [
    {
     "data": {
      "text/plain": [
       "<Axes: title={'center': 'Feature importance'}, xlabel='F score', ylabel='Features'>"
      ]
     },
     "execution_count": 19,
     "metadata": {},
     "output_type": "execute_result"
    },
    {
     "data": {
      "image/png": "[encoded data removed]",
      "text/plain": [
       "<Figure size 640x480 with 1 Axes>"
      ]
     },
     "metadata": {},
     "output_type": "display_data"
    }
   ],
   "source": [
    "xgb.plot_importance(de_model)"
   ]
  },
  {
   "cell_type": "code",
   "execution_count": 15,
   "metadata": {
    "collapsed": false
   },
   "outputs": [],
   "source": [
    "outputs = de_model.predict(test_d)"
   ]
  },
  {
   "cell_type": "markdown",
   "metadata": {
    "collapsed": false
   },
   "source": [
    "### Evaluation and output"
   ]
  },
  {
   "cell_type": "code",
   "execution_count": 16,
   "metadata": {
    "collapsed": false
   },
   "outputs": [
    {
     "name": "stdout",
     "output_type": "stream",
     "text": [
      "Spearman: 0.2553164132379249, Pearson: 0.2534846119831518\n"
     ]
    }
   ],
   "source": [
    "from scipy.stats import spearmanr\n",
    "\n",
    "spearman_ = spearmanr(outputs, de_test['target']).correlation\n",
    "pearson_ = np.corrcoef(outputs,  de_test['target'])[0,1]\n",
    "\n",
    "print(f'Spearman: {spearman_}, Pearson: {pearson_}')"
   ]
  },
  {
   "cell_type": "code",
   "execution_count": 17,
   "metadata": {
    "collapsed": false
   },
   "outputs": [],
   "source": [
    "output_df = clean_df(x_test, 'de')\n",
    "\n",
    "output_d = xgb.DMatrix(output_df[inputs])\n",
    "output_df['predict'] = de_model.predict(output_d)"
   ]
  },
  {
   "cell_type": "code",
   "execution_count": 18,
   "metadata": {
    "collapsed": false
   },
   "outputs": [],
   "source": [
    "output_df[['predict']].to_csv('de_out.csv', index_label='ID')"
   ]
  },
  {
   "cell_type": "markdown",
   "metadata": {},
   "source": [
    "## Takeaways\n",
    "- Discretization of target variable helps to deal with outliers and high kurtosis\n",
    "- Stratified train/test split helps addressing outliers and randomness\n",
    "- Reducing tree depth might prevent overfitting"
   ]
  }
 ],
 "metadata": {
  "kernelspec": {
   "display_name": "Python 3",
   "language": "python",
   "name": "python3"
  },
  "language_info": {
   "codemirror_mode": {
    "name": "ipython",
    "version": 3
   },
   "file_extension": ".py",
   "mimetype": "text/x-python",
   "name": "python",
   "nbconvert_exporter": "python",
   "pygments_lexer": "ipython3",
   "version": "3.11.4"
  }
 },
 "nbformat": 4,
 "nbformat_minor": 0
}
