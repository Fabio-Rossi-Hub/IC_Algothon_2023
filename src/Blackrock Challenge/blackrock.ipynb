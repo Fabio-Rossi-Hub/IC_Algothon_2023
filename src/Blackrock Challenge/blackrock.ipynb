{
 "cells": [
  {
   "cell_type": "code",
   "execution_count": 10,
   "metadata": {},
   "outputs": [],
   "source": [
    "import pathlib\n",
    "import glob\n",
    "\n",
    "import pandas as pd\n",
    "import numpy as np"
   ]
  },
  {
   "cell_type": "markdown",
   "source": [
    "### Load all provided stock prices"
   ],
   "metadata": {
    "collapsed": false
   }
  },
  {
   "cell_type": "code",
   "execution_count": 11,
   "metadata": {},
   "outputs": [],
   "source": [
    "csv_directory = r'./universe'  # Replace with your directory path\n",
    "\n",
    "prices = []\n",
    "for file_path in glob.glob(f'{csv_directory}/*.csv'):\n",
    "    df = pd.read_csv(file_path)\n",
    "    df.set_index('Date', inplace=True)\n",
    "    ticker = pathlib.Path(file_path).stem  # Extract the ticker from the filename\n",
    "    df.columns = [ticker]  # Add a 'ticker' column with the ticker name\n",
    "    prices.append(df)\n",
    "\n",
    "# Concatenate the DataFrames in the list\n",
    "merged_df = pd.concat(prices, axis=1,join='inner')"
   ]
  },
  {
   "cell_type": "code",
   "execution_count": 12,
   "metadata": {},
   "outputs": [
    {
     "data": {
      "text/plain": "                   GRD       EEWF        PIT         PHG        LVP  \\\nDate                                                                  \n2018-01-02   97.843417  44.955194  24.533109   65.885681  75.341624   \n2018-01-03   98.025637  45.002297  24.810185   65.535385  74.833526   \n2018-01-04   96.752150  45.036689  24.851298   64.642176  74.569841   \n2018-01-05   97.004171  45.250880  24.909552   65.328523  74.463089   \n2018-01-08   98.343070  45.258272  24.979097   64.726307  74.347607   \n...                ...        ...        ...         ...        ...   \n2022-12-23  168.513071  56.775923  25.107955   99.733797  73.247142   \n2022-12-27  169.792189  57.776392  25.402983  101.084254  72.927657   \n2022-12-28  169.336113  56.706952  25.428842   99.568569  72.218675   \n2022-12-29  171.207500  57.197557  25.582212   99.016615  72.843107   \n2022-12-30  172.422542  57.399880  25.687626  100.067474  73.277239   \n\n                  IJM         VKM        NLHS        PTDE        YSMW  ...  \\\nDate                                                                   ...   \n2018-01-02  64.032964  116.597293  120.402303   56.021946  124.827287  ...   \n2018-01-03  65.002483  116.828920  122.894699   56.395367  124.125534  ...   \n2018-01-04  64.751834  116.255635  122.085828   54.981352  123.764176  ...   \n2018-01-05  64.521407  115.275362  123.182778   54.962658  127.154873  ...   \n2018-01-08  64.924960  114.905070  123.653605   55.527380  123.941602  ...   \n...               ...         ...         ...         ...         ...  ...   \n2022-12-23  89.486347  187.540096  407.378883  113.539802  157.323800  ...   \n2022-12-27  90.120686  189.236300  406.848212  110.351667  159.699225  ...   \n2022-12-28  88.711188  187.878233  405.458703  109.093333  158.106884  ...   \n2022-12-29  90.261988  187.448310  406.545805  111.598839  159.932640  ...   \n2022-12-30  89.091801  187.885363  408.092209  111.236087  157.818675  ...   \n\n                  APQ        PAKH         OSD        MIH         HXE  \\\nDate                                                                   \n2018-01-02  41.153268   82.248237  122.645054  49.298044  315.225644   \n2018-01-03  41.403621   82.172424  125.089711  50.765780  310.999651   \n2018-01-04  41.100373   81.141951  124.416785  49.484395  319.148190   \n2018-01-05  41.460241   81.617733  123.194535  50.299046  313.852284   \n2018-01-08  41.915577   81.512581  122.874424  51.154988  314.514284   \n...               ...         ...         ...        ...         ...   \n2022-12-23  64.226280   99.525961  145.162954  83.702492  563.923667   \n2022-12-27  63.712386  100.263858  144.880918  81.600978  566.722132   \n2022-12-28  63.779943   99.796393  142.662355  81.333474  570.196344   \n2022-12-29  63.952566  101.553226  144.885049  83.251801  577.930096   \n2022-12-30  64.236550  100.284874  144.013382  82.569929  570.718220   \n\n                   ZPG         HBK        CNMO         BYJ       CMRX  \nDate                                                                   \n2018-01-02  127.106864  128.510599  146.550074  241.405075  58.978466  \n2018-01-03  124.220766  128.403133  148.606466  245.961251  59.247344  \n2018-01-04  122.288091  125.976171  147.529965  246.798039  58.858756  \n2018-01-05  124.763512  125.844478  149.273710  241.775219  59.594661  \n2018-01-08  124.346704  129.537054  145.405581  249.787557  59.345982  \n...                ...         ...         ...         ...        ...  \n2022-12-23  280.455552  437.718344  236.093104  366.319597  74.223036  \n2022-12-27  283.283271  445.407293  239.796610  368.145255  73.914338  \n2022-12-28  273.408282  444.457218  237.649349  362.421878  72.331143  \n2022-12-29  283.754461  442.610932  235.712142  365.408177  73.990484  \n2022-12-30  281.552841  445.791228  233.818991  366.556373  74.066293  \n\n[1259 rows x 500 columns]",
      "text/html": "<div>\n<style scoped>\n    .dataframe tbody tr th:only-of-type {\n        vertical-align: middle;\n    }\n\n    .dataframe tbody tr th {\n        vertical-align: top;\n    }\n\n    .dataframe thead th {\n        text-align: right;\n    }\n</style>\n<table border=\"1\" class=\"dataframe\">\n  <thead>\n    <tr style=\"text-align: right;\">\n      <th></th>\n      <th>GRD</th>\n      <th>EEWF</th>\n      <th>PIT</th>\n      <th>PHG</th>\n      <th>LVP</th>\n      <th>IJM</th>\n      <th>VKM</th>\n      <th>NLHS</th>\n      <th>PTDE</th>\n      <th>YSMW</th>\n      <th>...</th>\n      <th>APQ</th>\n      <th>PAKH</th>\n      <th>OSD</th>\n      <th>MIH</th>\n      <th>HXE</th>\n      <th>ZPG</th>\n      <th>HBK</th>\n      <th>CNMO</th>\n      <th>BYJ</th>\n      <th>CMRX</th>\n    </tr>\n    <tr>\n      <th>Date</th>\n      <th></th>\n      <th></th>\n      <th></th>\n      <th></th>\n      <th></th>\n      <th></th>\n      <th></th>\n      <th></th>\n      <th></th>\n      <th></th>\n      <th></th>\n      <th></th>\n      <th></th>\n      <th></th>\n      <th></th>\n      <th></th>\n      <th></th>\n      <th></th>\n      <th></th>\n      <th></th>\n      <th></th>\n    </tr>\n  </thead>\n  <tbody>\n    <tr>\n      <th>2018-01-02</th>\n      <td>97.843417</td>\n      <td>44.955194</td>\n      <td>24.533109</td>\n      <td>65.885681</td>\n      <td>75.341624</td>\n      <td>64.032964</td>\n      <td>116.597293</td>\n      <td>120.402303</td>\n      <td>56.021946</td>\n      <td>124.827287</td>\n      <td>...</td>\n      <td>41.153268</td>\n      <td>82.248237</td>\n      <td>122.645054</td>\n      <td>49.298044</td>\n      <td>315.225644</td>\n      <td>127.106864</td>\n      <td>128.510599</td>\n      <td>146.550074</td>\n      <td>241.405075</td>\n      <td>58.978466</td>\n    </tr>\n    <tr>\n      <th>2018-01-03</th>\n      <td>98.025637</td>\n      <td>45.002297</td>\n      <td>24.810185</td>\n      <td>65.535385</td>\n      <td>74.833526</td>\n      <td>65.002483</td>\n      <td>116.828920</td>\n      <td>122.894699</td>\n      <td>56.395367</td>\n      <td>124.125534</td>\n      <td>...</td>\n      <td>41.403621</td>\n      <td>82.172424</td>\n      <td>125.089711</td>\n      <td>50.765780</td>\n      <td>310.999651</td>\n      <td>124.220766</td>\n      <td>128.403133</td>\n      <td>148.606466</td>\n      <td>245.961251</td>\n      <td>59.247344</td>\n    </tr>\n    <tr>\n      <th>2018-01-04</th>\n      <td>96.752150</td>\n      <td>45.036689</td>\n      <td>24.851298</td>\n      <td>64.642176</td>\n      <td>74.569841</td>\n      <td>64.751834</td>\n      <td>116.255635</td>\n      <td>122.085828</td>\n      <td>54.981352</td>\n      <td>123.764176</td>\n      <td>...</td>\n      <td>41.100373</td>\n      <td>81.141951</td>\n      <td>124.416785</td>\n      <td>49.484395</td>\n      <td>319.148190</td>\n      <td>122.288091</td>\n      <td>125.976171</td>\n      <td>147.529965</td>\n      <td>246.798039</td>\n      <td>58.858756</td>\n    </tr>\n    <tr>\n      <th>2018-01-05</th>\n      <td>97.004171</td>\n      <td>45.250880</td>\n      <td>24.909552</td>\n      <td>65.328523</td>\n      <td>74.463089</td>\n      <td>64.521407</td>\n      <td>115.275362</td>\n      <td>123.182778</td>\n      <td>54.962658</td>\n      <td>127.154873</td>\n      <td>...</td>\n      <td>41.460241</td>\n      <td>81.617733</td>\n      <td>123.194535</td>\n      <td>50.299046</td>\n      <td>313.852284</td>\n      <td>124.763512</td>\n      <td>125.844478</td>\n      <td>149.273710</td>\n      <td>241.775219</td>\n      <td>59.594661</td>\n    </tr>\n    <tr>\n      <th>2018-01-08</th>\n      <td>98.343070</td>\n      <td>45.258272</td>\n      <td>24.979097</td>\n      <td>64.726307</td>\n      <td>74.347607</td>\n      <td>64.924960</td>\n      <td>114.905070</td>\n      <td>123.653605</td>\n      <td>55.527380</td>\n      <td>123.941602</td>\n      <td>...</td>\n      <td>41.915577</td>\n      <td>81.512581</td>\n      <td>122.874424</td>\n      <td>51.154988</td>\n      <td>314.514284</td>\n      <td>124.346704</td>\n      <td>129.537054</td>\n      <td>145.405581</td>\n      <td>249.787557</td>\n      <td>59.345982</td>\n    </tr>\n    <tr>\n      <th>...</th>\n      <td>...</td>\n      <td>...</td>\n      <td>...</td>\n      <td>...</td>\n      <td>...</td>\n      <td>...</td>\n      <td>...</td>\n      <td>...</td>\n      <td>...</td>\n      <td>...</td>\n      <td>...</td>\n      <td>...</td>\n      <td>...</td>\n      <td>...</td>\n      <td>...</td>\n      <td>...</td>\n      <td>...</td>\n      <td>...</td>\n      <td>...</td>\n      <td>...</td>\n      <td>...</td>\n    </tr>\n    <tr>\n      <th>2022-12-23</th>\n      <td>168.513071</td>\n      <td>56.775923</td>\n      <td>25.107955</td>\n      <td>99.733797</td>\n      <td>73.247142</td>\n      <td>89.486347</td>\n      <td>187.540096</td>\n      <td>407.378883</td>\n      <td>113.539802</td>\n      <td>157.323800</td>\n      <td>...</td>\n      <td>64.226280</td>\n      <td>99.525961</td>\n      <td>145.162954</td>\n      <td>83.702492</td>\n      <td>563.923667</td>\n      <td>280.455552</td>\n      <td>437.718344</td>\n      <td>236.093104</td>\n      <td>366.319597</td>\n      <td>74.223036</td>\n    </tr>\n    <tr>\n      <th>2022-12-27</th>\n      <td>169.792189</td>\n      <td>57.776392</td>\n      <td>25.402983</td>\n      <td>101.084254</td>\n      <td>72.927657</td>\n      <td>90.120686</td>\n      <td>189.236300</td>\n      <td>406.848212</td>\n      <td>110.351667</td>\n      <td>159.699225</td>\n      <td>...</td>\n      <td>63.712386</td>\n      <td>100.263858</td>\n      <td>144.880918</td>\n      <td>81.600978</td>\n      <td>566.722132</td>\n      <td>283.283271</td>\n      <td>445.407293</td>\n      <td>239.796610</td>\n      <td>368.145255</td>\n      <td>73.914338</td>\n    </tr>\n    <tr>\n      <th>2022-12-28</th>\n      <td>169.336113</td>\n      <td>56.706952</td>\n      <td>25.428842</td>\n      <td>99.568569</td>\n      <td>72.218675</td>\n      <td>88.711188</td>\n      <td>187.878233</td>\n      <td>405.458703</td>\n      <td>109.093333</td>\n      <td>158.106884</td>\n      <td>...</td>\n      <td>63.779943</td>\n      <td>99.796393</td>\n      <td>142.662355</td>\n      <td>81.333474</td>\n      <td>570.196344</td>\n      <td>273.408282</td>\n      <td>444.457218</td>\n      <td>237.649349</td>\n      <td>362.421878</td>\n      <td>72.331143</td>\n    </tr>\n    <tr>\n      <th>2022-12-29</th>\n      <td>171.207500</td>\n      <td>57.197557</td>\n      <td>25.582212</td>\n      <td>99.016615</td>\n      <td>72.843107</td>\n      <td>90.261988</td>\n      <td>187.448310</td>\n      <td>406.545805</td>\n      <td>111.598839</td>\n      <td>159.932640</td>\n      <td>...</td>\n      <td>63.952566</td>\n      <td>101.553226</td>\n      <td>144.885049</td>\n      <td>83.251801</td>\n      <td>577.930096</td>\n      <td>283.754461</td>\n      <td>442.610932</td>\n      <td>235.712142</td>\n      <td>365.408177</td>\n      <td>73.990484</td>\n    </tr>\n    <tr>\n      <th>2022-12-30</th>\n      <td>172.422542</td>\n      <td>57.399880</td>\n      <td>25.687626</td>\n      <td>100.067474</td>\n      <td>73.277239</td>\n      <td>89.091801</td>\n      <td>187.885363</td>\n      <td>408.092209</td>\n      <td>111.236087</td>\n      <td>157.818675</td>\n      <td>...</td>\n      <td>64.236550</td>\n      <td>100.284874</td>\n      <td>144.013382</td>\n      <td>82.569929</td>\n      <td>570.718220</td>\n      <td>281.552841</td>\n      <td>445.791228</td>\n      <td>233.818991</td>\n      <td>366.556373</td>\n      <td>74.066293</td>\n    </tr>\n  </tbody>\n</table>\n<p>1259 rows × 500 columns</p>\n</div>"
     },
     "execution_count": 12,
     "metadata": {},
     "output_type": "execute_result"
    }
   ],
   "source": [
    "merged_df"
   ]
  },
  {
   "cell_type": "markdown",
   "source": [
    "### Calculate daily returns"
   ],
   "metadata": {
    "collapsed": false
   }
  },
  {
   "cell_type": "code",
   "execution_count": 14,
   "metadata": {},
   "outputs": [],
   "source": [
    "returns_df = merged_df.pct_change().dropna()"
   ]
  },
  {
   "cell_type": "markdown",
   "source": [
    "### Use PyPortfolioOpt to get an initial guess of the weights"
   ],
   "metadata": {
    "collapsed": false
   }
  },
  {
   "cell_type": "code",
   "execution_count": 62,
   "outputs": [
    {
     "name": "stderr",
     "output_type": "stream",
     "text": [
      "/Users/matus/anaconda3/envs/blackrock/lib/python3.10/site-packages/cvxpy/problems/problem.py:1403: UserWarning: Solution may be inaccurate. Try another solver, adjusting the solver settings, or solve with verbose=True for more information.\n",
      "  warnings.warn(\n"
     ]
    }
   ],
   "source": [
    "from pprint import pprint\n",
    "from pypfopt.expected_returns import mean_historical_return\n",
    "from pypfopt.risk_models import CovarianceShrinkage\n",
    "from pypfopt.efficient_frontier import EfficientFrontier\n",
    "#https://pyportfolioopt.readthedocs.io/en/latest/MeanVariance.html#adding-objectives-and-constraints\n",
    "\n",
    "mu = mean_historical_return(merged_df)\n",
    "S = CovarianceShrinkage(merged_df).ledoit_wolf()\n",
    "\n",
    "ef = EfficientFrontier(mu, S)\n",
    "weights = ef.max_sharpe(risk_free_rate =0)\n",
    "\n",
    "cleaned_weights = ef.clean_weights()"
   ],
   "metadata": {
    "collapsed": false
   }
  },
  {
   "cell_type": "markdown",
   "source": [
    "### Define Sortino ratio evaluation function"
   ],
   "metadata": {
    "collapsed": false
   }
  },
  {
   "cell_type": "code",
   "execution_count": null,
   "outputs": [],
   "source": [
    "def calc_sortino_ratio(weights, **kwargs):\n",
    "    weighted_returns = (returns_df * [float(w) for w in weights]).sum(axis=1)\n",
    "    downside_deviation = np.std(weighted_returns[weighted_returns < 0], ddof=0)\n",
    "\n",
    "    return -(weighted_returns.mean() / downside_deviation) * np.sqrt(252)"
   ],
   "metadata": {
    "collapsed": false
   }
  },
  {
   "cell_type": "code",
   "execution_count": null,
   "outputs": [],
   "source": [
    "-calc_sortino_ratio(np.array([cleaned_weights.get(company, 0.0) for company in returns_df.columns]))"
   ],
   "metadata": {
    "collapsed": false
   }
  },
  {
   "cell_type": "markdown",
   "source": [
    "### Minimise initial guess to optimum"
   ],
   "metadata": {
    "collapsed": false
   }
  },
  {
   "cell_type": "code",
   "execution_count": 18,
   "outputs": [],
   "source": [
    "import matplotlib.pyplot as plt\n",
    "from scipy.optimize import minimize, NonlinearConstraint\n",
    "\n",
    "n_companies = len(returns_df.columns)"
   ],
   "metadata": {
    "collapsed": false
   }
  },
  {
   "cell_type": "code",
   "execution_count": 56,
   "outputs": [
    {
     "name": "stdout",
     "output_type": "stream",
     "text": [
      "2.0392606542857767\n",
      "2.358101316185485\n",
      "2.461155027772156\n",
      "2.4496080095000057\n",
      "2.402688560252506\n",
      "2.394818184474381\n",
      "2.4791825024286442\n",
      "2.4881518606156914\n",
      "2.4956872757104636\n",
      "2.4946411498842123\n",
      "2.4265651248359044\n",
      "2.446392847304671\n",
      "2.3889615754308133\n",
      "2.3351645141902315\n",
      "2.180415176581564\n",
      "2.1754197982403523\n",
      "2.375924149559034\n",
      "2.492883277692231\n",
      "2.493920618320114\n",
      "2.4951834177546828\n",
      "2.49497386475183\n",
      "2.4948778736804393\n",
      "2.4959821845713672\n",
      "2.4746323441110216\n",
      "2.4970264507071445\n",
      "2.493739850194064\n",
      "2.465285803272709\n",
      "2.3626140444783084\n",
      "2.317179687904605\n",
      "2.2383847789404023\n",
      "2.2225548280875285\n",
      "2.4253348084720536\n",
      "1.8873602280055632\n",
      "2.414040792897245\n",
      "2.1500821647220256\n",
      "2.2549682222014016\n",
      "2.0988844057204985\n",
      "2.455676439491716\n",
      "2.462711257314248\n",
      "2.19080585502729\n",
      "2.1568279461765134\n",
      "2.3985293698231605\n",
      "2.3305021528243075\n",
      "2.3810063888266733\n",
      "2.4728020309992575\n",
      "2.494962798166918\n",
      "2.434974077372639\n",
      "2.44576009782828\n",
      "2.465351527435879\n",
      "2.4612232911882312\n",
      "2.451980842712761\n",
      "2.1606645618931513\n",
      "2.4678464186719618\n",
      "2.494609991169539\n",
      "2.4421022028254455\n",
      "2.4735107125096016\n",
      "2.4835008047032963\n",
      "2.428927189739885\n",
      "2.4463943644765127\n",
      "2.4865344802477254\n",
      "2.443647131408243\n",
      "2.4979726375634645\n"
     ]
    }
   ],
   "source": [
    "sortino_hist = []\n",
    "\n",
    "def p_callback(values):\n",
    "    c_score = -calc_sortino_ratio(values)\n",
    "    sortino_hist.append((c_score, values))\n",
    "    print(c_score)\n",
    "\n",
    "optimal_weights = minimize(\n",
    "    calc_sortino_ratio,\n",
    "    x0=[cleaned_weights.get(company, 0.0) for company in returns_df.columns],\n",
    "    bounds=[(0.0, 1.0) for _ in range(n_companies)],\n",
    "    constraints=[\n",
    "        NonlinearConstraint(\n",
    "            fun=lambda x: x.sum(),\n",
    "            lb=0.9999, ub=1.0001\n",
    "        ),\n",
    "        NonlinearConstraint(\n",
    "            fun=lambda x: np.abs(x - x.round(5)).sum(),\n",
    "            lb=0.0, ub=0.00001\n",
    "        )\n",
    "    ],\n",
    "    method='SLSQP',\n",
    "    callback=p_callback\n",
    ")"
   ],
   "metadata": {
    "collapsed": false
   }
  },
  {
   "cell_type": "markdown",
   "source": [
    "### Clean and output"
   ],
   "metadata": {
    "collapsed": false
   }
  },
  {
   "cell_type": "code",
   "execution_count": 63,
   "outputs": [],
   "source": [
    "max_score, max_values = sorted(sortino_hist, reverse=True)[0]"
   ],
   "metadata": {
    "collapsed": false
   }
  },
  {
   "cell_type": "code",
   "execution_count": 64,
   "outputs": [
    {
     "data": {
      "text/plain": "2.4979726375634645"
     },
     "execution_count": 64,
     "metadata": {},
     "output_type": "execute_result"
    }
   ],
   "source": [
    "max_score"
   ],
   "metadata": {
    "collapsed": false
   }
  },
  {
   "cell_type": "code",
   "execution_count": 65,
   "outputs": [
    {
     "data": {
      "text/plain": "[<matplotlib.lines.Line2D at 0x294adab60>]"
     },
     "execution_count": 65,
     "metadata": {},
     "output_type": "execute_result"
    },
    {
     "data": {
      "text/plain": "<Figure size 640x480 with 1 Axes>",
      "image/png": "[encoded data removed]"
     },
     "metadata": {},
     "output_type": "display_data"
    }
   ],
   "source": [
    "plt.plot([score for score, _ in sortino_hist])"
   ],
   "metadata": {
    "collapsed": false
   }
  },
  {
   "cell_type": "code",
   "execution_count": 66,
   "outputs": [],
   "source": [
    "from decimal import Decimal\n",
    "\n",
    "discretized_values = [Decimal(weight).quantize(Decimal(\"0.00001\")) for weight in max_values]\n",
    "\n",
    "# Get raw values\n",
    "m_values_dict = {\n",
    "    ticker: weight for ticker, weight in zip(returns_df.columns, discretized_values)\n",
    "    if weight != Decimal('0.0')\n",
    "}"
   ],
   "metadata": {
    "collapsed": false
   }
  },
  {
   "cell_type": "code",
   "execution_count": 68,
   "outputs": [
    {
     "name": "stdout",
     "output_type": "stream",
     "text": [
      "1.00000 2.4979730684691526\n"
     ]
    }
   ],
   "source": [
    "print(sum(m_values_dict.values()), -calc_sortino_ratio(discretized_values))"
   ],
   "metadata": {
    "collapsed": false
   }
  },
  {
   "cell_type": "markdown",
   "source": [
    "### Write results to csv"
   ],
   "metadata": {
    "collapsed": false
   }
  },
  {
   "cell_type": "code",
   "execution_count": 72,
   "outputs": [],
   "source": [
    "output_df = pd.DataFrame.from_records([\n",
    "    {'ticker': ticker, 'weight': weight * Decimal('100')} for ticker, weight in m_values_dict.items()\n",
    "])\n",
    "output_df.to_csv('./portfolio.csv', index=False, header=False)"
   ],
   "metadata": {
    "collapsed": false
   }
  }
 ],
 "metadata": {
  "kernelspec": {
   "display_name": "Python 3",
   "language": "python",
   "name": "python3"
  },
  "language_info": {
   "codemirror_mode": {
    "name": "ipython",
    "version": 3
   },
   "file_extension": ".py",
   "mimetype": "text/x-python",
   "name": "python",
   "nbconvert_exporter": "python",
   "pygments_lexer": "ipython3",
   "version": "3.11.4"
  }
 },
 "nbformat": 4,
 "nbformat_minor": 2
}
